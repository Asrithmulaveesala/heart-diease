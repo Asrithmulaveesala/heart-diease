{
  "cells": [
    {
      "cell_type": "markdown",
      "id": "1e1b129d",
      "metadata": {},
      "source": [
        "1. Import Required libraries"
      ]
    },
    {
      "cell_type": "code",
      "execution_count": 1,
      "id": "0c0a0f9c",
      "metadata": {
        "id": "0c0a0f9c"
      },
      "outputs": [],
      "source": [
        "#importing the required libraries\n",
        "import pandas as pd\n",
        "import numpy as np\n",
        "import matplotlib.pyplot as plt\n",
        "%matplotlib inline\n",
        "import warnings\n",
        "warnings.filterwarnings(\"ignore\")\n",
        "pd.set_option(\"display.max_columns\", None)\n",
        "#import pandasql as psql"
      ]
    },
    {
      "cell_type": "markdown",
      "id": "51180a81",
      "metadata": {},
      "source": [
        "2. Load the Dataset"
      ]
    },
    {
      "cell_type": "code",
      "execution_count": 2,
      "id": "3a4081f2",
      "metadata": {
        "colab": {
          "base_uri": "https://localhost:8080/",
          "height": 226
        },
        "id": "3a4081f2",
        "outputId": "31bddd0e-47e8-4eaa-a2cf-f762e48f2566"
      },
      "outputs": [
        {
          "data": {
            "text/html": [
              "<div>\n",
              "<style scoped>\n",
              "    .dataframe tbody tr th:only-of-type {\n",
              "        vertical-align: middle;\n",
              "    }\n",
              "\n",
              "    .dataframe tbody tr th {\n",
              "        vertical-align: top;\n",
              "    }\n",
              "\n",
              "    .dataframe thead th {\n",
              "        text-align: right;\n",
              "    }\n",
              "</style>\n",
              "<table border=\"1\" class=\"dataframe\">\n",
              "  <thead>\n",
              "    <tr style=\"text-align: right;\">\n",
              "      <th></th>\n",
              "      <th>HeartDisease</th>\n",
              "      <th>BMI</th>\n",
              "      <th>Smoking</th>\n",
              "      <th>AlcoholDrinking</th>\n",
              "      <th>Stroke</th>\n",
              "      <th>PhysicalHealth</th>\n",
              "      <th>MentalHealth</th>\n",
              "      <th>DiffWalking</th>\n",
              "      <th>Sex</th>\n",
              "      <th>AgeCategory</th>\n",
              "      <th>Race</th>\n",
              "      <th>Diabetic</th>\n",
              "      <th>PhysicalActivity</th>\n",
              "      <th>GenHealth</th>\n",
              "      <th>SleepTime</th>\n",
              "      <th>Asthma</th>\n",
              "      <th>KidneyDisease</th>\n",
              "      <th>SkinCancer</th>\n",
              "    </tr>\n",
              "  </thead>\n",
              "  <tbody>\n",
              "    <tr>\n",
              "      <th>0</th>\n",
              "      <td>No</td>\n",
              "      <td>16.60</td>\n",
              "      <td>Yes</td>\n",
              "      <td>No</td>\n",
              "      <td>No</td>\n",
              "      <td>3.0</td>\n",
              "      <td>30.0</td>\n",
              "      <td>No</td>\n",
              "      <td>Female</td>\n",
              "      <td>55-59</td>\n",
              "      <td>White</td>\n",
              "      <td>Yes</td>\n",
              "      <td>Yes</td>\n",
              "      <td>Very good</td>\n",
              "      <td>5.0</td>\n",
              "      <td>Yes</td>\n",
              "      <td>No</td>\n",
              "      <td>Yes</td>\n",
              "    </tr>\n",
              "    <tr>\n",
              "      <th>1</th>\n",
              "      <td>No</td>\n",
              "      <td>20.34</td>\n",
              "      <td>No</td>\n",
              "      <td>No</td>\n",
              "      <td>Yes</td>\n",
              "      <td>0.0</td>\n",
              "      <td>0.0</td>\n",
              "      <td>No</td>\n",
              "      <td>Female</td>\n",
              "      <td>80 or older</td>\n",
              "      <td>White</td>\n",
              "      <td>No</td>\n",
              "      <td>Yes</td>\n",
              "      <td>Very good</td>\n",
              "      <td>7.0</td>\n",
              "      <td>No</td>\n",
              "      <td>No</td>\n",
              "      <td>No</td>\n",
              "    </tr>\n",
              "    <tr>\n",
              "      <th>2</th>\n",
              "      <td>No</td>\n",
              "      <td>26.58</td>\n",
              "      <td>Yes</td>\n",
              "      <td>No</td>\n",
              "      <td>No</td>\n",
              "      <td>20.0</td>\n",
              "      <td>30.0</td>\n",
              "      <td>No</td>\n",
              "      <td>Male</td>\n",
              "      <td>65-69</td>\n",
              "      <td>White</td>\n",
              "      <td>Yes</td>\n",
              "      <td>Yes</td>\n",
              "      <td>Fair</td>\n",
              "      <td>8.0</td>\n",
              "      <td>Yes</td>\n",
              "      <td>No</td>\n",
              "      <td>No</td>\n",
              "    </tr>\n",
              "    <tr>\n",
              "      <th>3</th>\n",
              "      <td>No</td>\n",
              "      <td>24.21</td>\n",
              "      <td>No</td>\n",
              "      <td>No</td>\n",
              "      <td>No</td>\n",
              "      <td>0.0</td>\n",
              "      <td>0.0</td>\n",
              "      <td>No</td>\n",
              "      <td>Female</td>\n",
              "      <td>75-79</td>\n",
              "      <td>White</td>\n",
              "      <td>No</td>\n",
              "      <td>No</td>\n",
              "      <td>Good</td>\n",
              "      <td>6.0</td>\n",
              "      <td>No</td>\n",
              "      <td>No</td>\n",
              "      <td>Yes</td>\n",
              "    </tr>\n",
              "    <tr>\n",
              "      <th>4</th>\n",
              "      <td>No</td>\n",
              "      <td>23.71</td>\n",
              "      <td>No</td>\n",
              "      <td>No</td>\n",
              "      <td>No</td>\n",
              "      <td>28.0</td>\n",
              "      <td>0.0</td>\n",
              "      <td>Yes</td>\n",
              "      <td>Female</td>\n",
              "      <td>40-44</td>\n",
              "      <td>White</td>\n",
              "      <td>No</td>\n",
              "      <td>Yes</td>\n",
              "      <td>Very good</td>\n",
              "      <td>8.0</td>\n",
              "      <td>No</td>\n",
              "      <td>No</td>\n",
              "      <td>No</td>\n",
              "    </tr>\n",
              "  </tbody>\n",
              "</table>\n",
              "</div>"
            ],
            "text/plain": [
              "  HeartDisease    BMI Smoking AlcoholDrinking Stroke  PhysicalHealth  \\\n",
              "0           No  16.60     Yes              No     No             3.0   \n",
              "1           No  20.34      No              No    Yes             0.0   \n",
              "2           No  26.58     Yes              No     No            20.0   \n",
              "3           No  24.21      No              No     No             0.0   \n",
              "4           No  23.71      No              No     No            28.0   \n",
              "\n",
              "   MentalHealth DiffWalking     Sex  AgeCategory   Race Diabetic  \\\n",
              "0          30.0          No  Female        55-59  White      Yes   \n",
              "1           0.0          No  Female  80 or older  White       No   \n",
              "2          30.0          No    Male        65-69  White      Yes   \n",
              "3           0.0          No  Female        75-79  White       No   \n",
              "4           0.0         Yes  Female        40-44  White       No   \n",
              "\n",
              "  PhysicalActivity  GenHealth  SleepTime Asthma KidneyDisease SkinCancer  \n",
              "0              Yes  Very good        5.0    Yes            No        Yes  \n",
              "1              Yes  Very good        7.0     No            No         No  \n",
              "2              Yes       Fair        8.0    Yes            No         No  \n",
              "3               No       Good        6.0     No            No        Yes  \n",
              "4              Yes  Very good        8.0     No            No         No  "
            ]
          },
          "execution_count": 2,
          "metadata": {},
          "output_type": "execute_result"
        }
      ],
      "source": [
        "#loading the dataset\n",
        "data=pd.read_csv(r\"heart_2020_cleaned.csv\",header=0)\n",
        "#Backup the dataset\n",
        "data_bk=data.copy()\n",
        "#Displaying first 5 rows of the dataset\n",
        "data.head()"
      ]
    },
    {
      "cell_type": "code",
      "execution_count": 3,
      "id": "45fd634b",
      "metadata": {
        "colab": {
          "base_uri": "https://localhost:8080/"
        },
        "id": "45fd634b",
        "outputId": "e8fd8d11-b1d3-4cb9-f87a-2ecf367f9d60"
      },
      "outputs": [
        {
          "data": {
            "text/plain": [
              "(319795, 18)"
            ]
          },
          "execution_count": 3,
          "metadata": {},
          "output_type": "execute_result"
        }
      ],
      "source": [
        "#Displaying Dataset Shape\n",
        "data.shape"
      ]
    },
    {
      "cell_type": "markdown",
      "id": "a8e67064",
      "metadata": {},
      "source": [
        "3.Data Pre-Processing and Feature selection"
      ]
    },
    {
      "cell_type": "code",
      "execution_count": 4,
      "id": "6e975519",
      "metadata": {
        "colab": {
          "base_uri": "https://localhost:8080/"
        },
        "id": "6e975519",
        "outputId": "83463a4f-2a81-4d9a-fd67-f162cee73cd9"
      },
      "outputs": [
        {
          "name": "stdout",
          "output_type": "stream",
          "text": [
            "<class 'pandas.core.frame.DataFrame'>\n",
            "RangeIndex: 319795 entries, 0 to 319794\n",
            "Data columns (total 18 columns):\n",
            " #   Column            Non-Null Count   Dtype  \n",
            "---  ------            --------------   -----  \n",
            " 0   HeartDisease      319795 non-null  object \n",
            " 1   BMI               319795 non-null  float64\n",
            " 2   Smoking           319795 non-null  object \n",
            " 3   AlcoholDrinking   319795 non-null  object \n",
            " 4   Stroke            319795 non-null  object \n",
            " 5   PhysicalHealth    319795 non-null  float64\n",
            " 6   MentalHealth      319795 non-null  float64\n",
            " 7   DiffWalking       319795 non-null  object \n",
            " 8   Sex               319795 non-null  object \n",
            " 9   AgeCategory       319795 non-null  object \n",
            " 10  Race              319795 non-null  object \n",
            " 11  Diabetic          319795 non-null  object \n",
            " 12  PhysicalActivity  319795 non-null  object \n",
            " 13  GenHealth         319795 non-null  object \n",
            " 14  SleepTime         319795 non-null  float64\n",
            " 15  Asthma            319795 non-null  object \n",
            " 16  KidneyDisease     319795 non-null  object \n",
            " 17  SkinCancer        319795 non-null  object \n",
            "dtypes: float64(4), object(14)\n",
            "memory usage: 43.9+ MB\n"
          ]
        }
      ],
      "source": [
        "#Displaying Dataset Information\n",
        "data.info()"
      ]
    },
    {
      "cell_type": "markdown",
      "id": "b628e5ed",
      "metadata": {},
      "source": [
        "3.1 Finding Duplicates"
      ]
    },
    {
      "cell_type": "code",
      "execution_count": 5,
      "id": "9645babb",
      "metadata": {
        "colab": {
          "base_uri": "https://localhost:8080/"
        },
        "id": "9645babb",
        "outputId": "05fe1427-ee3d-4796-e177-e510765642bc"
      },
      "outputs": [
        {
          "data": {
            "text/plain": [
              "np.True_"
            ]
          },
          "execution_count": 5,
          "metadata": {},
          "output_type": "execute_result"
        }
      ],
      "source": [
        "#Checking for Dulicated Values in the dataset\n",
        "data.duplicated().any()"
      ]
    },
    {
      "cell_type": "code",
      "execution_count": 6,
      "id": "a8ccda78",
      "metadata": {
        "colab": {
          "base_uri": "https://localhost:8080/",
          "height": 443
        },
        "id": "a8ccda78",
        "outputId": "5af989ea-ec26-4d3b-cf2a-c31175a40631"
      },
      "outputs": [
        {
          "data": {
            "text/html": [
              "<div>\n",
              "<style scoped>\n",
              "    .dataframe tbody tr th:only-of-type {\n",
              "        vertical-align: middle;\n",
              "    }\n",
              "\n",
              "    .dataframe tbody tr th {\n",
              "        vertical-align: top;\n",
              "    }\n",
              "\n",
              "    .dataframe thead th {\n",
              "        text-align: right;\n",
              "    }\n",
              "</style>\n",
              "<table border=\"1\" class=\"dataframe\">\n",
              "  <thead>\n",
              "    <tr style=\"text-align: right;\">\n",
              "      <th></th>\n",
              "      <th>HeartDisease</th>\n",
              "      <th>BMI</th>\n",
              "      <th>Smoking</th>\n",
              "      <th>AlcoholDrinking</th>\n",
              "      <th>Stroke</th>\n",
              "      <th>PhysicalHealth</th>\n",
              "      <th>MentalHealth</th>\n",
              "      <th>DiffWalking</th>\n",
              "      <th>Sex</th>\n",
              "      <th>AgeCategory</th>\n",
              "      <th>Race</th>\n",
              "      <th>Diabetic</th>\n",
              "      <th>PhysicalActivity</th>\n",
              "      <th>GenHealth</th>\n",
              "      <th>SleepTime</th>\n",
              "      <th>Asthma</th>\n",
              "      <th>KidneyDisease</th>\n",
              "      <th>SkinCancer</th>\n",
              "    </tr>\n",
              "  </thead>\n",
              "  <tbody>\n",
              "    <tr>\n",
              "      <th>24</th>\n",
              "      <td>No</td>\n",
              "      <td>25.75</td>\n",
              "      <td>No</td>\n",
              "      <td>No</td>\n",
              "      <td>No</td>\n",
              "      <td>0.0</td>\n",
              "      <td>0.0</td>\n",
              "      <td>No</td>\n",
              "      <td>Female</td>\n",
              "      <td>80 or older</td>\n",
              "      <td>White</td>\n",
              "      <td>No</td>\n",
              "      <td>Yes</td>\n",
              "      <td>Very good</td>\n",
              "      <td>6.0</td>\n",
              "      <td>No</td>\n",
              "      <td>No</td>\n",
              "      <td>Yes</td>\n",
              "    </tr>\n",
              "    <tr>\n",
              "      <th>41</th>\n",
              "      <td>No</td>\n",
              "      <td>28.13</td>\n",
              "      <td>No</td>\n",
              "      <td>No</td>\n",
              "      <td>No</td>\n",
              "      <td>0.0</td>\n",
              "      <td>0.0</td>\n",
              "      <td>No</td>\n",
              "      <td>Male</td>\n",
              "      <td>60-64</td>\n",
              "      <td>White</td>\n",
              "      <td>No</td>\n",
              "      <td>Yes</td>\n",
              "      <td>Excellent</td>\n",
              "      <td>8.0</td>\n",
              "      <td>No</td>\n",
              "      <td>No</td>\n",
              "      <td>No</td>\n",
              "    </tr>\n",
              "    <tr>\n",
              "      <th>46</th>\n",
              "      <td>No</td>\n",
              "      <td>33.23</td>\n",
              "      <td>No</td>\n",
              "      <td>No</td>\n",
              "      <td>No</td>\n",
              "      <td>0.0</td>\n",
              "      <td>0.0</td>\n",
              "      <td>No</td>\n",
              "      <td>Male</td>\n",
              "      <td>65-69</td>\n",
              "      <td>White</td>\n",
              "      <td>Yes</td>\n",
              "      <td>Yes</td>\n",
              "      <td>Very good</td>\n",
              "      <td>8.0</td>\n",
              "      <td>No</td>\n",
              "      <td>No</td>\n",
              "      <td>No</td>\n",
              "    </tr>\n",
              "    <tr>\n",
              "      <th>102</th>\n",
              "      <td>No</td>\n",
              "      <td>23.49</td>\n",
              "      <td>No</td>\n",
              "      <td>No</td>\n",
              "      <td>No</td>\n",
              "      <td>0.0</td>\n",
              "      <td>0.0</td>\n",
              "      <td>No</td>\n",
              "      <td>Female</td>\n",
              "      <td>70-74</td>\n",
              "      <td>White</td>\n",
              "      <td>No</td>\n",
              "      <td>Yes</td>\n",
              "      <td>Very good</td>\n",
              "      <td>8.0</td>\n",
              "      <td>No</td>\n",
              "      <td>No</td>\n",
              "      <td>No</td>\n",
              "    </tr>\n",
              "    <tr>\n",
              "      <th>104</th>\n",
              "      <td>No</td>\n",
              "      <td>25.09</td>\n",
              "      <td>Yes</td>\n",
              "      <td>No</td>\n",
              "      <td>No</td>\n",
              "      <td>0.0</td>\n",
              "      <td>0.0</td>\n",
              "      <td>No</td>\n",
              "      <td>Male</td>\n",
              "      <td>65-69</td>\n",
              "      <td>White</td>\n",
              "      <td>No</td>\n",
              "      <td>Yes</td>\n",
              "      <td>Very good</td>\n",
              "      <td>7.0</td>\n",
              "      <td>No</td>\n",
              "      <td>No</td>\n",
              "      <td>No</td>\n",
              "    </tr>\n",
              "    <tr>\n",
              "      <th>...</th>\n",
              "      <td>...</td>\n",
              "      <td>...</td>\n",
              "      <td>...</td>\n",
              "      <td>...</td>\n",
              "      <td>...</td>\n",
              "      <td>...</td>\n",
              "      <td>...</td>\n",
              "      <td>...</td>\n",
              "      <td>...</td>\n",
              "      <td>...</td>\n",
              "      <td>...</td>\n",
              "      <td>...</td>\n",
              "      <td>...</td>\n",
              "      <td>...</td>\n",
              "      <td>...</td>\n",
              "      <td>...</td>\n",
              "      <td>...</td>\n",
              "      <td>...</td>\n",
              "    </tr>\n",
              "    <tr>\n",
              "      <th>317618</th>\n",
              "      <td>No</td>\n",
              "      <td>27.46</td>\n",
              "      <td>No</td>\n",
              "      <td>No</td>\n",
              "      <td>No</td>\n",
              "      <td>0.0</td>\n",
              "      <td>0.0</td>\n",
              "      <td>No</td>\n",
              "      <td>Female</td>\n",
              "      <td>45-49</td>\n",
              "      <td>Hispanic</td>\n",
              "      <td>No</td>\n",
              "      <td>No</td>\n",
              "      <td>Excellent</td>\n",
              "      <td>8.0</td>\n",
              "      <td>No</td>\n",
              "      <td>No</td>\n",
              "      <td>No</td>\n",
              "    </tr>\n",
              "    <tr>\n",
              "      <th>318065</th>\n",
              "      <td>No</td>\n",
              "      <td>28.06</td>\n",
              "      <td>No</td>\n",
              "      <td>No</td>\n",
              "      <td>No</td>\n",
              "      <td>0.0</td>\n",
              "      <td>0.0</td>\n",
              "      <td>No</td>\n",
              "      <td>Male</td>\n",
              "      <td>18-24</td>\n",
              "      <td>Hispanic</td>\n",
              "      <td>No</td>\n",
              "      <td>Yes</td>\n",
              "      <td>Excellent</td>\n",
              "      <td>9.0</td>\n",
              "      <td>No</td>\n",
              "      <td>No</td>\n",
              "      <td>No</td>\n",
              "    </tr>\n",
              "    <tr>\n",
              "      <th>318703</th>\n",
              "      <td>No</td>\n",
              "      <td>19.74</td>\n",
              "      <td>No</td>\n",
              "      <td>No</td>\n",
              "      <td>No</td>\n",
              "      <td>0.0</td>\n",
              "      <td>0.0</td>\n",
              "      <td>No</td>\n",
              "      <td>Female</td>\n",
              "      <td>18-24</td>\n",
              "      <td>Hispanic</td>\n",
              "      <td>No</td>\n",
              "      <td>Yes</td>\n",
              "      <td>Excellent</td>\n",
              "      <td>8.0</td>\n",
              "      <td>No</td>\n",
              "      <td>No</td>\n",
              "      <td>No</td>\n",
              "    </tr>\n",
              "    <tr>\n",
              "      <th>318736</th>\n",
              "      <td>No</td>\n",
              "      <td>24.41</td>\n",
              "      <td>Yes</td>\n",
              "      <td>No</td>\n",
              "      <td>No</td>\n",
              "      <td>0.0</td>\n",
              "      <td>0.0</td>\n",
              "      <td>No</td>\n",
              "      <td>Male</td>\n",
              "      <td>18-24</td>\n",
              "      <td>Hispanic</td>\n",
              "      <td>No</td>\n",
              "      <td>Yes</td>\n",
              "      <td>Excellent</td>\n",
              "      <td>8.0</td>\n",
              "      <td>No</td>\n",
              "      <td>No</td>\n",
              "      <td>No</td>\n",
              "    </tr>\n",
              "    <tr>\n",
              "      <th>319479</th>\n",
              "      <td>No</td>\n",
              "      <td>27.98</td>\n",
              "      <td>No</td>\n",
              "      <td>No</td>\n",
              "      <td>No</td>\n",
              "      <td>0.0</td>\n",
              "      <td>0.0</td>\n",
              "      <td>No</td>\n",
              "      <td>Female</td>\n",
              "      <td>50-54</td>\n",
              "      <td>Hispanic</td>\n",
              "      <td>No</td>\n",
              "      <td>No</td>\n",
              "      <td>Good</td>\n",
              "      <td>8.0</td>\n",
              "      <td>No</td>\n",
              "      <td>No</td>\n",
              "      <td>No</td>\n",
              "    </tr>\n",
              "  </tbody>\n",
              "</table>\n",
              "<p>18078 rows × 18 columns</p>\n",
              "</div>"
            ],
            "text/plain": [
              "       HeartDisease    BMI Smoking AlcoholDrinking Stroke  PhysicalHealth  \\\n",
              "24               No  25.75      No              No     No             0.0   \n",
              "41               No  28.13      No              No     No             0.0   \n",
              "46               No  33.23      No              No     No             0.0   \n",
              "102              No  23.49      No              No     No             0.0   \n",
              "104              No  25.09     Yes              No     No             0.0   \n",
              "...             ...    ...     ...             ...    ...             ...   \n",
              "317618           No  27.46      No              No     No             0.0   \n",
              "318065           No  28.06      No              No     No             0.0   \n",
              "318703           No  19.74      No              No     No             0.0   \n",
              "318736           No  24.41     Yes              No     No             0.0   \n",
              "319479           No  27.98      No              No     No             0.0   \n",
              "\n",
              "        MentalHealth DiffWalking     Sex  AgeCategory      Race Diabetic  \\\n",
              "24               0.0          No  Female  80 or older     White       No   \n",
              "41               0.0          No    Male        60-64     White       No   \n",
              "46               0.0          No    Male        65-69     White      Yes   \n",
              "102              0.0          No  Female        70-74     White       No   \n",
              "104              0.0          No    Male        65-69     White       No   \n",
              "...              ...         ...     ...          ...       ...      ...   \n",
              "317618           0.0          No  Female        45-49  Hispanic       No   \n",
              "318065           0.0          No    Male        18-24  Hispanic       No   \n",
              "318703           0.0          No  Female        18-24  Hispanic       No   \n",
              "318736           0.0          No    Male        18-24  Hispanic       No   \n",
              "319479           0.0          No  Female        50-54  Hispanic       No   \n",
              "\n",
              "       PhysicalActivity  GenHealth  SleepTime Asthma KidneyDisease SkinCancer  \n",
              "24                  Yes  Very good        6.0     No            No        Yes  \n",
              "41                  Yes  Excellent        8.0     No            No         No  \n",
              "46                  Yes  Very good        8.0     No            No         No  \n",
              "102                 Yes  Very good        8.0     No            No         No  \n",
              "104                 Yes  Very good        7.0     No            No         No  \n",
              "...                 ...        ...        ...    ...           ...        ...  \n",
              "317618               No  Excellent        8.0     No            No         No  \n",
              "318065              Yes  Excellent        9.0     No            No         No  \n",
              "318703              Yes  Excellent        8.0     No            No         No  \n",
              "318736              Yes  Excellent        8.0     No            No         No  \n",
              "319479               No       Good        8.0     No            No         No  \n",
              "\n",
              "[18078 rows x 18 columns]"
            ]
          },
          "execution_count": 6,
          "metadata": {},
          "output_type": "execute_result"
        }
      ],
      "source": [
        "#Displaying for duplicated values in the dataset\n",
        "data_dup=data[data.duplicated(keep='last')]\n",
        "data_dup"
      ]
    },
    {
      "cell_type": "code",
      "execution_count": 7,
      "id": "14f7ed76",
      "metadata": {
        "colab": {
          "base_uri": "https://localhost:8080/"
        },
        "id": "14f7ed76",
        "outputId": "f2fae862-ab43-4469-e44d-072a765421d0"
      },
      "outputs": [
        {
          "data": {
            "text/plain": [
              "(301717, 18)"
            ]
          },
          "execution_count": 7,
          "metadata": {},
          "output_type": "execute_result"
        }
      ],
      "source": [
        "#Dropping the duplicated values in the dataset\n",
        "data=data.drop_duplicates()\n",
        "data.shape"
      ]
    },
    {
      "cell_type": "code",
      "execution_count": 8,
      "id": "4b55c56a",
      "metadata": {
        "id": "4b55c56a"
      },
      "outputs": [],
      "source": [
        "#Resetting the row index\n",
        "data=data.reset_index(drop=True)\n",
        "#Backing up the data after deleting the duplicate values\n",
        "data_bk1=data.copy()"
      ]
    },
    {
      "cell_type": "markdown",
      "id": "37e552e3",
      "metadata": {},
      "source": [
        "3.2 Balancing Dataset"
      ]
    },
    {
      "cell_type": "code",
      "execution_count": 9,
      "id": "60704921",
      "metadata": {
        "colab": {
          "base_uri": "https://localhost:8080/"
        },
        "id": "60704921",
        "outputId": "6e409ea6-5122-4b6c-a6c9-fd2cc9c5362b"
      },
      "outputs": [
        {
          "name": "stdout",
          "output_type": "stream",
          "text": [
            "Class 0: 274456\n",
            "Class 1: 27261\n",
            "Proportion: 10.07 : 1\n",
            "Total Bank records: 301717\n"
          ]
        }
      ],
      "source": [
        "# Count the target or dependent variable by '0' & '1' and their proportion\n",
        "# (>= 10 : 1, then the dataset is imbalance data)\n",
        "\n",
        "Heart_count = data.HeartDisease.value_counts()\n",
        "print('Class 0:', Heart_count[0])\n",
        "print('Class 1:', Heart_count[1])\n",
        "print('Proportion:', round(Heart_count[0] / Heart_count[1], 2), ': 1')\n",
        "print('Total Bank records:', len(data))"
      ]
    },
    {
      "cell_type": "code",
      "execution_count": 10,
      "id": "51c7d1a7",
      "metadata": {
        "id": "51c7d1a7"
      },
      "outputs": [],
      "source": [
        "#The Dataset is Balanced"
      ]
    },
    {
      "cell_type": "code",
      "execution_count": 11,
      "id": "bc1fbf9b",
      "metadata": {
        "colab": {
          "base_uri": "https://localhost:8080/",
          "height": 597
        },
        "id": "bc1fbf9b",
        "outputId": "f1cc586c-b79e-4da4-a928-84d1106d1f4b"
      },
      "outputs": [
        {
          "data": {
            "text/plain": [
              "<function matplotlib.pyplot.show(close=None, block=None)>"
            ]
          },
          "execution_count": 11,
          "metadata": {},
          "output_type": "execute_result"
        },
        {
          "data": {
            "image/png": "[encoded data removed]",
            "text/plain": [
              "<Figure size 640x480 with 1 Axes>"
            ]
          },
          "metadata": {},
          "output_type": "display_data"
        }
      ],
      "source": [
        "#Plotting the pie chart of the HeartDisease\n",
        "plt.pie(x=data['HeartDisease'].value_counts(),autopct='%1.2f%%',labels=data['HeartDisease'].value_counts().index)\n",
        "plt.title('The ratio of Heart Disease')\n",
        "plt.show"
      ]
    },
    {
      "cell_type": "code",
      "execution_count": 12,
      "id": "a76ed197",
      "metadata": {
        "colab": {
          "base_uri": "https://localhost:8080/"
        },
        "id": "a76ed197",
        "outputId": "8aa58e1c-f6c9-4167-f196-91459e90063d"
      },
      "outputs": [
        {
          "data": {
            "text/plain": [
              "HeartDisease           2\n",
              "BMI                 3604\n",
              "Smoking                2\n",
              "AlcoholDrinking        2\n",
              "Stroke                 2\n",
              "PhysicalHealth        31\n",
              "MentalHealth          31\n",
              "DiffWalking            2\n",
              "Sex                    2\n",
              "AgeCategory           13\n",
              "Race                   6\n",
              "Diabetic               4\n",
              "PhysicalActivity       2\n",
              "GenHealth              5\n",
              "SleepTime             24\n",
              "Asthma                 2\n",
              "KidneyDisease          2\n",
              "SkinCancer             2\n",
              "dtype: int64"
            ]
          },
          "execution_count": 12,
          "metadata": {},
          "output_type": "execute_result"
        }
      ],
      "source": [
        "#Displaying unique elements in each rows\n",
        "data.nunique()"
      ]
    },
    {
      "cell_type": "code",
      "execution_count": 13,
      "id": "5954da57",
      "metadata": {
        "colab": {
          "base_uri": "https://localhost:8080/"
        },
        "id": "5954da57",
        "outputId": "b5de4ed4-ad3a-4ac7-f0be-255124419a57"
      },
      "outputs": [
        {
          "data": {
            "text/plain": [
              "HeartDisease\n",
              "No     274456\n",
              "Yes     27261\n",
              "Name: count, dtype: int64"
            ]
          },
          "execution_count": 13,
          "metadata": {},
          "output_type": "execute_result"
        }
      ],
      "source": [
        "#Displaying values of 'HeartDisease'\n",
        "data['HeartDisease'].value_counts()"
      ]
    },
    {
      "cell_type": "markdown",
      "id": "9eead7f6",
      "metadata": {},
      "source": [
        "3.3 Transforming categorical variables into numerical variable"
      ]
    },
    {
      "cell_type": "code",
      "execution_count": 14,
      "id": "0d64308e",
      "metadata": {
        "id": "0d64308e"
      },
      "outputs": [],
      "source": [
        "#converting the diagnosis values into int values by using label encoder\n",
        "from sklearn.preprocessing import LabelEncoder\n",
        "le=LabelEncoder()\n",
        "data['HeartDisease']=le.fit_transform(data['HeartDisease'])\n",
        "data['Smoking']=le.fit_transform(data['Smoking'])\n",
        "data['AlcoholDrinking']=le.fit_transform(data['AlcoholDrinking'])\n",
        "data['Stroke']=le.fit_transform(data['Stroke'])\n",
        "data['DiffWalking']=le.fit_transform(data['DiffWalking'])\n",
        "data['Sex']=le.fit_transform(data['Sex'])\n",
        "data['Race']=le.fit_transform(data['Race'])\n",
        "data['Diabetic']=le.fit_transform(data['Diabetic'])\n",
        "data['PhysicalActivity']=le.fit_transform(data['PhysicalActivity'])\n",
        "data['GenHealth']=le.fit_transform(data['GenHealth'])\n",
        "data['Asthma']=le.fit_transform(data['Asthma'])\n",
        "data['KidneyDisease']=le.fit_transform(data['KidneyDisease'])\n",
        "data['SkinCancer']=le.fit_transform(data['SkinCancer'])"
      ]
    },
    {
      "cell_type": "code",
      "execution_count": 15,
      "id": "cd1f1080",
      "metadata": {
        "colab": {
          "base_uri": "https://localhost:8080/"
        },
        "id": "cd1f1080",
        "outputId": "5e28f1c8-3396-4843-b11e-833d9d1adc9d"
      },
      "outputs": [
        {
          "name": "stdout",
          "output_type": "stream",
          "text": [
            "<class 'pandas.core.frame.DataFrame'>\n",
            "RangeIndex: 301717 entries, 0 to 301716\n",
            "Data columns (total 18 columns):\n",
            " #   Column            Non-Null Count   Dtype  \n",
            "---  ------            --------------   -----  \n",
            " 0   HeartDisease      301717 non-null  int64  \n",
            " 1   BMI               301717 non-null  float64\n",
            " 2   Smoking           301717 non-null  int64  \n",
            " 3   AlcoholDrinking   301717 non-null  int64  \n",
            " 4   Stroke            301717 non-null  int64  \n",
            " 5   PhysicalHealth    301717 non-null  float64\n",
            " 6   MentalHealth      301717 non-null  float64\n",
            " 7   DiffWalking       301717 non-null  int64  \n",
            " 8   Sex               301717 non-null  int64  \n",
            " 9   AgeCategory       301717 non-null  object \n",
            " 10  Race              301717 non-null  int64  \n",
            " 11  Diabetic          301717 non-null  int64  \n",
            " 12  PhysicalActivity  301717 non-null  int64  \n",
            " 13  GenHealth         301717 non-null  int64  \n",
            " 14  SleepTime         301717 non-null  float64\n",
            " 15  Asthma            301717 non-null  int64  \n",
            " 16  KidneyDisease     301717 non-null  int64  \n",
            " 17  SkinCancer        301717 non-null  int64  \n",
            "dtypes: float64(4), int64(13), object(1)\n",
            "memory usage: 41.4+ MB\n"
          ]
        }
      ],
      "source": [
        "#Displaying Data set information after converting them using label encoder\n",
        "data.info()"
      ]
    },
    {
      "cell_type": "markdown",
      "id": "9b2638de",
      "metadata": {},
      "source": [
        "4. Data Visualization"
      ]
    },
    {
      "cell_type": "code",
      "execution_count": 16,
      "id": "2db168eb",
      "metadata": {
        "colab": {
          "base_uri": "https://localhost:8080/",
          "height": 877
        },
        "id": "2db168eb",
        "outputId": "34691639-b541-4730-c2af-72d9e8c04537"
      },
      "outputs": [
        {
          "data": {
            "image/png": "[encoded data removed]",
            "text/plain": [
              "<Figure size 1800x1400 with 2 Axes>"
            ]
          },
          "metadata": {},
          "output_type": "display_data"
        }
      ],
      "source": [
        "#Displaying counterplot of 'AgeCategory' using seaborn library\n",
        "import seaborn as sns\n",
        "fig , ax = plt.subplots(2,1,figsize = (18,14))\n",
        "ax1 = sns.countplot(x=data[\"AgeCategory\"],palette=\"mako\",ax=ax[0])\n",
        "#Checking in each category how many members has heart disease\n",
        "ax2 = sns.countplot(x=data[\"AgeCategory\"],hue=data[\"HeartDisease\"],ax=ax[1])\n",
        "#Displaying the graphs\n",
        "plt.tight_layout()"
      ]
    },
    {
      "cell_type": "code",
      "execution_count": 17,
      "id": "eb64e6a3",
      "metadata": {
        "colab": {
          "base_uri": "https://localhost:8080/"
        },
        "id": "eb64e6a3",
        "outputId": "0b78e9c0-0a5f-4b30-da93-486010536c0c"
      },
      "outputs": [
        {
          "data": {
            "text/plain": [
              "AgeCategory\n",
              "65-69          31670\n",
              "60-64          31219\n",
              "70-74          29273\n",
              "55-59          27610\n",
              "50-54          23736\n",
              "80 or older    23352\n",
              "75-79          20713\n",
              "45-49          20518\n",
              "18-24          19998\n",
              "40-44          19837\n",
              "35-39          19526\n",
              "30-34          17953\n",
              "25-29          16312\n",
              "Name: count, dtype: int64"
            ]
          },
          "execution_count": 17,
          "metadata": {},
          "output_type": "execute_result"
        }
      ],
      "source": [
        "#Displaying all unique values in 'AgeCategory'\n",
        "data.AgeCategory.value_counts()"
      ]
    },
    {
      "cell_type": "code",
      "execution_count": 18,
      "id": "6a3a3439",
      "metadata": {
        "id": "6a3a3439"
      },
      "outputs": [],
      "source": [
        "#Defining a mean function to convert Age Category to mean values\n",
        "def mean(l):\n",
        "    sum=0\n",
        "    for i in l:\n",
        "        sum=sum+i\n",
        "    return sum/len(l)\n",
        "#Using map function convert all categories to mean values\n",
        "data['AgeCategory']=data['AgeCategory'].map({'65-69':mean([65,69]),'60-64':mean([60,64]),'70-74':mean([70,74]),\n",
        "                                            '55-59':mean([70,74]),'50-54':mean([50,54]),'80 or older':80,\n",
        "                                            '75-79':mean([75,79]),'45-49':mean([45,49]),'18-24':mean([18,24]),\n",
        "                                            '40-44':mean([40,44]),'35-39':mean([35,39]),'30-34':mean([30,34]),\n",
        "                                            '25-29':mean([25,29])})"
      ]
    },
    {
      "cell_type": "code",
      "execution_count": 19,
      "id": "cb63b170",
      "metadata": {
        "colab": {
          "base_uri": "https://localhost:8080/"
        },
        "id": "cb63b170",
        "outputId": "8cb047b1-a831-4b25-dcdf-7ffca1843ed5"
      },
      "outputs": [
        {
          "data": {
            "text/plain": [
              "AgeCategory\n",
              "72.0    56883\n",
              "67.0    31670\n",
              "62.0    31219\n",
              "52.0    23736\n",
              "80.0    23352\n",
              "77.0    20713\n",
              "47.0    20518\n",
              "21.0    19998\n",
              "42.0    19837\n",
              "37.0    19526\n",
              "32.0    17953\n",
              "27.0    16312\n",
              "Name: count, dtype: int64"
            ]
          },
          "execution_count": 19,
          "metadata": {},
          "output_type": "execute_result"
        }
      ],
      "source": [
        "#Now checking the 'AgeCategory'\n",
        "data.AgeCategory.value_counts()"
      ]
    },
    {
      "cell_type": "code",
      "execution_count": 20,
      "id": "8fc65ccf",
      "metadata": {
        "colab": {
          "base_uri": "https://localhost:8080/"
        },
        "id": "8fc65ccf",
        "outputId": "6c17daf3-eed5-40e1-d91c-4e33008c7fc0"
      },
      "outputs": [
        {
          "name": "stdout",
          "output_type": "stream",
          "text": [
            "<class 'pandas.core.frame.DataFrame'>\n",
            "RangeIndex: 301717 entries, 0 to 301716\n",
            "Data columns (total 18 columns):\n",
            " #   Column            Non-Null Count   Dtype  \n",
            "---  ------            --------------   -----  \n",
            " 0   HeartDisease      301717 non-null  int64  \n",
            " 1   BMI               301717 non-null  float64\n",
            " 2   Smoking           301717 non-null  int64  \n",
            " 3   AlcoholDrinking   301717 non-null  int64  \n",
            " 4   Stroke            301717 non-null  int64  \n",
            " 5   PhysicalHealth    301717 non-null  float64\n",
            " 6   MentalHealth      301717 non-null  float64\n",
            " 7   DiffWalking       301717 non-null  int64  \n",
            " 8   Sex               301717 non-null  int64  \n",
            " 9   AgeCategory       301717 non-null  float64\n",
            " 10  Race              301717 non-null  int64  \n",
            " 11  Diabetic          301717 non-null  int64  \n",
            " 12  PhysicalActivity  301717 non-null  int64  \n",
            " 13  GenHealth         301717 non-null  int64  \n",
            " 14  SleepTime         301717 non-null  float64\n",
            " 15  Asthma            301717 non-null  int64  \n",
            " 16  KidneyDisease     301717 non-null  int64  \n",
            " 17  SkinCancer        301717 non-null  int64  \n",
            "dtypes: float64(5), int64(13)\n",
            "memory usage: 41.4 MB\n"
          ]
        }
      ],
      "source": [
        "#Displaying the dataset information\n",
        "data.info()"
      ]
    },
    {
      "cell_type": "code",
      "execution_count": 21,
      "id": "93f38992",
      "metadata": {},
      "outputs": [
        {
          "name": "stdout",
          "output_type": "stream",
          "text": [
            "Requirement already satisfied: missingno in c:\\users\\asrit\\appdata\\local\\packages\\pythonsoftwarefoundation.python.3.11_qbz5n2kfra8p0\\localcache\\local-packages\\python311\\site-packages (0.5.2)Note: you may need to restart the kernel to use updated packages.\n",
            "\n",
            "Requirement already satisfied: numpy in c:\\users\\asrit\\appdata\\local\\packages\\pythonsoftwarefoundation.python.3.11_qbz5n2kfra8p0\\localcache\\local-packages\\python311\\site-packages (from missingno) (2.2.3)\n",
            "Requirement already satisfied: matplotlib in c:\\users\\asrit\\appdata\\local\\packages\\pythonsoftwarefoundation.python.3.11_qbz5n2kfra8p0\\localcache\\local-packages\\python311\\site-packages (from missingno) (3.10.0)\n",
            "Requirement already satisfied: scipy in c:\\users\\asrit\\appdata\\local\\packages\\pythonsoftwarefoundation.python.3.11_qbz5n2kfra8p0\\localcache\\local-packages\\python311\\site-packages (from missingno) (1.15.2)\n",
            "Requirement already satisfied: seaborn in c:\\users\\asrit\\appdata\\local\\packages\\pythonsoftwarefoundation.python.3.11_qbz5n2kfra8p0\\localcache\\local-packages\\python311\\site-packages (from missingno) (0.13.2)\n",
            "Requirement already satisfied: contourpy>=1.0.1 in c:\\users\\asrit\\appdata\\local\\packages\\pythonsoftwarefoundation.python.3.11_qbz5n2kfra8p0\\localcache\\local-packages\\python311\\site-packages (from matplotlib->missingno) (1.3.1)\n",
            "Requirement already satisfied: cycler>=0.10 in c:\\users\\asrit\\appdata\\local\\packages\\pythonsoftwarefoundation.python.3.11_qbz5n2kfra8p0\\localcache\\local-packages\\python311\\site-packages (from matplotlib->missingno) (0.12.1)\n",
            "Requirement already satisfied: fonttools>=4.22.0 in c:\\users\\asrit\\appdata\\local\\packages\\pythonsoftwarefoundation.python.3.11_qbz5n2kfra8p0\\localcache\\local-packages\\python311\\site-packages (from matplotlib->missingno) (4.56.0)\n",
            "Requirement already satisfied: kiwisolver>=1.3.1 in c:\\users\\asrit\\appdata\\local\\packages\\pythonsoftwarefoundation.python.3.11_qbz5n2kfra8p0\\localcache\\local-packages\\python311\\site-packages (from matplotlib->missingno) (1.4.8)\n",
            "Requirement already satisfied: packaging>=20.0 in c:\\users\\asrit\\appdata\\local\\packages\\pythonsoftwarefoundation.python.3.11_qbz5n2kfra8p0\\localcache\\local-packages\\python311\\site-packages (from matplotlib->missingno) (24.2)\n",
            "Requirement already satisfied: pillow>=8 in c:\\users\\asrit\\appdata\\local\\packages\\pythonsoftwarefoundation.python.3.11_qbz5n2kfra8p0\\localcache\\local-packages\\python311\\site-packages (from matplotlib->missingno) (11.1.0)\n",
            "Requirement already satisfied: pyparsing>=2.3.1 in c:\\users\\asrit\\appdata\\local\\packages\\pythonsoftwarefoundation.python.3.11_qbz5n2kfra8p0\\localcache\\local-packages\\python311\\site-packages (from matplotlib->missingno) (3.2.1)\n",
            "Requirement already satisfied: python-dateutil>=2.7 in c:\\users\\asrit\\appdata\\local\\packages\\pythonsoftwarefoundation.python.3.11_qbz5n2kfra8p0\\localcache\\local-packages\\python311\\site-packages (from matplotlib->missingno) (2.9.0.post0)\n",
            "Requirement already satisfied: pandas>=1.2 in c:\\users\\asrit\\appdata\\local\\packages\\pythonsoftwarefoundation.python.3.11_qbz5n2kfra8p0\\localcache\\local-packages\\python311\\site-packages (from seaborn->missingno) (2.2.3)\n",
            "Requirement already satisfied: pytz>=2020.1 in c:\\users\\asrit\\appdata\\local\\packages\\pythonsoftwarefoundation.python.3.11_qbz5n2kfra8p0\\localcache\\local-packages\\python311\\site-packages (from pandas>=1.2->seaborn->missingno) (2025.1)\n",
            "Requirement already satisfied: tzdata>=2022.7 in c:\\users\\asrit\\appdata\\local\\packages\\pythonsoftwarefoundation.python.3.11_qbz5n2kfra8p0\\localcache\\local-packages\\python311\\site-packages (from pandas>=1.2->seaborn->missingno) (2025.1)\n",
            "Requirement already satisfied: six>=1.5 in c:\\users\\asrit\\appdata\\local\\packages\\pythonsoftwarefoundation.python.3.11_qbz5n2kfra8p0\\localcache\\local-packages\\python311\\site-packages (from python-dateutil>=2.7->matplotlib->missingno) (1.17.0)\n"
          ]
        },
        {
          "name": "stderr",
          "output_type": "stream",
          "text": [
            "\n",
            "[notice] A new release of pip is available: 24.0 -> 25.1.1\n",
            "[notice] To update, run: C:\\Users\\asrit\\AppData\\Local\\Microsoft\\WindowsApps\\PythonSoftwareFoundation.Python.3.11_qbz5n2kfra8p0\\python.exe -m pip install --upgrade pip\n"
          ]
        }
      ],
      "source": [
        "pip install missingno"
      ]
    },
    {
      "cell_type": "code",
      "execution_count": 22,
      "id": "514a3621",
      "metadata": {
        "colab": {
          "base_uri": "https://localhost:8080/",
          "height": 569
        },
        "id": "514a3621",
        "outputId": "0f775c01-bde1-4058-9ad3-7275208585c7"
      },
      "outputs": [
        {
          "data": {
            "text/plain": [
              "<Axes: >"
            ]
          },
          "execution_count": 22,
          "metadata": {},
          "output_type": "execute_result"
        },
        {
          "data": {
            "image/png": "[encoded data removed]",
            "text/plain": [
              "<Figure size 2500x1000 with 3 Axes>"
            ]
          },
          "metadata": {},
          "output_type": "display_data"
        }
      ],
      "source": [
        "#plotting a bar graph displaying is there any missing values in the dataset\n",
        "import missingno as msno\n",
        "msno.bar(data)"
      ]
    },
    {
      "cell_type": "code",
      "execution_count": 23,
      "id": "4ca4e29d",
      "metadata": {
        "colab": {
          "base_uri": "https://localhost:8080/"
        },
        "id": "4ca4e29d",
        "outputId": "f7375c69-500c-41b0-a67b-65feea350924"
      },
      "outputs": [
        {
          "data": {
            "text/plain": [
              "HeartDisease        0\n",
              "BMI                 0\n",
              "Smoking             0\n",
              "AlcoholDrinking     0\n",
              "Stroke              0\n",
              "PhysicalHealth      0\n",
              "MentalHealth        0\n",
              "DiffWalking         0\n",
              "Sex                 0\n",
              "AgeCategory         0\n",
              "Race                0\n",
              "Diabetic            0\n",
              "PhysicalActivity    0\n",
              "GenHealth           0\n",
              "SleepTime           0\n",
              "Asthma              0\n",
              "KidneyDisease       0\n",
              "SkinCancer          0\n",
              "dtype: int64"
            ]
          },
          "execution_count": 23,
          "metadata": {},
          "output_type": "execute_result"
        }
      ],
      "source": [
        "#Displaying the null values in each column\n",
        "data.isnull().sum()"
      ]
    },
    {
      "cell_type": "code",
      "execution_count": 24,
      "id": "61a6ff71",
      "metadata": {
        "id": "61a6ff71"
      },
      "outputs": [],
      "source": [
        "#There is no null values in the dataset\n",
        "#There is no need to delete any variable because all are influencing the target variable"
      ]
    },
    {
      "cell_type": "code",
      "execution_count": 25,
      "id": "d11e3187",
      "metadata": {
        "colab": {
          "base_uri": "https://localhost:8080/"
        },
        "id": "d11e3187",
        "outputId": "00ee5968-e278-46e6-8aef-92497b6e8dac"
      },
      "outputs": [
        {
          "data": {
            "text/plain": [
              "Index(['HeartDisease', 'BMI', 'Smoking', 'AlcoholDrinking', 'Stroke',\n",
              "       'PhysicalHealth', 'MentalHealth', 'DiffWalking', 'Sex', 'AgeCategory',\n",
              "       'Race', 'Diabetic', 'PhysicalActivity', 'GenHealth', 'SleepTime',\n",
              "       'Asthma', 'KidneyDisease', 'SkinCancer'],\n",
              "      dtype='object')"
            ]
          },
          "execution_count": 25,
          "metadata": {},
          "output_type": "execute_result"
        }
      ],
      "source": [
        "#Displaying all columns\n",
        "data.columns"
      ]
    },
    {
      "cell_type": "code",
      "execution_count": 26,
      "id": "12f02b81",
      "metadata": {
        "id": "12f02b81"
      },
      "outputs": [],
      "source": [
        "# Identify the independent and targrt (dependent) variables\n",
        "IndepVar = []\n",
        "for col in data.columns:\n",
        "    if col != 'HeartDisease':\n",
        "        IndepVar.append(col)\n",
        "TargetVar ='HeartDisease'\n",
        "\n",
        "x = data[IndepVar]\n",
        "y = data[TargetVar]"
      ]
    },
    {
      "cell_type": "markdown",
      "id": "ef7ac74d",
      "metadata": {},
      "source": [
        "5. Splitting and Training the data"
      ]
    },
    {
      "cell_type": "code",
      "execution_count": 27,
      "id": "fddf7502",
      "metadata": {
        "colab": {
          "base_uri": "https://localhost:8080/"
        },
        "id": "fddf7502",
        "outputId": "57a07b86-30f8-4c5f-87a8-de3b7d4ae126"
      },
      "outputs": [
        {
          "data": {
            "text/plain": [
              "((211201, 17), (90516, 17), (211201,), (90516,))"
            ]
          },
          "execution_count": 27,
          "metadata": {},
          "output_type": "execute_result"
        }
      ],
      "source": [
        " # Split the data into train and test (random sampling)\n",
        "\n",
        "from sklearn.model_selection import train_test_split\n",
        "\n",
        "x_train, x_test, y_train, y_test = train_test_split(x, y, test_size=0.3, random_state=42)\n",
        "\n",
        "# Display the shape for train & test data\n",
        "\n",
        "x_train.shape, x_test.shape, y_train.shape, y_test.shape"
      ]
    },
    {
      "cell_type": "code",
      "execution_count": 28,
      "id": "272b9b7f",
      "metadata": {
        "id": "272b9b7f"
      },
      "outputs": [],
      "source": [
        "# Scaling the features by using MinMaxScaler\n",
        "\n",
        "from sklearn.preprocessing import MinMaxScaler\n",
        "\n",
        "mmscaler = MinMaxScaler(feature_range=(0, 1))\n",
        "\n",
        "x_train = mmscaler.fit_transform(x_train)\n",
        "x_train = pd.DataFrame(x_train)\n",
        "\n",
        "x_test = mmscaler.fit_transform(x_test)\n",
        "x_test = pd.DataFrame(x_test)"
      ]
    },
    {
      "cell_type": "markdown",
      "id": "f4907138",
      "metadata": {
        "id": "f4907138"
      },
      "source": [
        "# KNN algorithm classification"
      ]
    },
    {
      "cell_type": "code",
      "execution_count": 29,
      "id": "53ecb690",
      "metadata": {
        "id": "53ecb690"
      },
      "outputs": [
        {
          "name": "stderr",
          "output_type": "stream",
          "text": [
            "  File \"C:\\Users\\asrit\\AppData\\Local\\Packages\\PythonSoftwareFoundation.Python.3.11_qbz5n2kfra8p0\\LocalCache\\local-packages\\Python311\\site-packages\\joblib\\externals\\loky\\backend\\context.py\", line 257, in _count_physical_cores\n",
            "    cpu_info = subprocess.run(\n",
            "               ^^^^^^^^^^^^^^^\n",
            "  File \"C:\\Program Files\\WindowsApps\\PythonSoftwareFoundation.Python.3.11_3.11.2544.0_x64__qbz5n2kfra8p0\\Lib\\subprocess.py\", line 548, in run\n",
            "    with Popen(*popenargs, **kwargs) as process:\n",
            "         ^^^^^^^^^^^^^^^^^^^^^^^^^^^\n",
            "  File \"C:\\Program Files\\WindowsApps\\PythonSoftwareFoundation.Python.3.11_3.11.2544.0_x64__qbz5n2kfra8p0\\Lib\\subprocess.py\", line 1026, in __init__\n",
            "    self._execute_child(args, executable, preexec_fn, close_fds,\n",
            "  File \"C:\\Program Files\\WindowsApps\\PythonSoftwareFoundation.Python.3.11_3.11.2544.0_x64__qbz5n2kfra8p0\\Lib\\subprocess.py\", line 1538, in _execute_child\n",
            "    hp, ht, pid, tid = _winapi.CreateProcess(executable, args,\n",
            "                       ^^^^^^^^^^^^^^^^^^^^^^^^^^^^^^^^^^^^^^^\n"
          ]
        },
        {
          "name": "stdout",
          "output_type": "stream",
          "text": [
            "KNN_K_value =  20\n",
            "Model Name:  KNeighborsClassifier(n_neighbors=20)\n",
            "Confusion matrix : \n",
            " [[  499  7634]\n",
            " [  535 81848]]\n",
            "Outcome values : \n",
            " 499 7634 535 81848\n",
            "Classification report : \n",
            "               precision    recall  f1-score   support\n",
            "\n",
            "           1       0.48      0.06      0.11      8133\n",
            "           0       0.91      0.99      0.95     82383\n",
            "\n",
            "    accuracy                           0.91     90516\n",
            "   macro avg       0.70      0.53      0.53     90516\n",
            "weighted avg       0.88      0.91      0.88     90516\n",
            "\n",
            "Accuracy : 91.0 %\n",
            "Precision : 48.3 %\n",
            "Recall : 6.1 %\n",
            "F1 Score : 0.109\n",
            "Specificity or True Negative Rate : 99.4 %\n",
            "Balanced Accuracy : 52.8 %\n",
            "MCC : 0.148\n"
          ]
        }
      ],
      "source": [
        "# Bild KNN Model\n",
        "\n",
        "from sklearn.neighbors import KNeighborsClassifier\n",
        "\n",
        "from sklearn.metrics import classification_report, confusion_matrix, accuracy_score\n",
        "\n",
        "import sklearn.metrics as metrics\n",
        "\n",
        "from sklearn.metrics import roc_curve, roc_auc_score\n",
        "\n",
        "accuracy = []\n",
        "\n",
        "\n",
        "\n",
        "k = 20\n",
        "\n",
        "    # Build the model\n",
        "\n",
        "ModelKNN = KNeighborsClassifier(n_neighbors=k)\n",
        "\n",
        "    # Train the model\n",
        "\n",
        "ModelKNN.fit(x_train, y_train)\n",
        "\n",
        "    # Predict the model\n",
        "\n",
        "y_pred = ModelKNN.predict(x_test)\n",
        "y_pred_prob = ModelKNN.predict_proba(x_test)\n",
        "\n",
        "print('KNN_K_value = ', k)\n",
        "\n",
        "    # Print the model name\n",
        "print('Model Name: ', ModelKNN)\n",
        "\n",
        "    # confusion matrix in sklearn\n",
        "\n",
        "from sklearn.metrics import confusion_matrix\n",
        "from sklearn.metrics import classification_report\n",
        "\n",
        "    # actual values\n",
        "\n",
        "actual = y_test\n",
        "\n",
        "    # predicted values\n",
        "\n",
        "predicted = y_pred\n",
        "\n",
        "    # confusion matrix\n",
        "\n",
        "matrix = confusion_matrix(actual,predicted, labels=[1,0],sample_weight=None, normalize=None)\n",
        "print('Confusion matrix : \\n', matrix)\n",
        "\n",
        "    # outcome values order in sklearn\n",
        "\n",
        "tp, fn, fp, tn = confusion_matrix(actual,predicted,labels=[1,0]).reshape(-1)\n",
        "print('Outcome values : \\n', tp, fn, fp, tn)\n",
        "\n",
        "    # classification report for precision, recall f1-score and accuracy\n",
        "\n",
        "C_Report = classification_report(actual,predicted,labels=[1,0])\n",
        "\n",
        "print('Classification report : \\n', C_Report)\n",
        "\n",
        "    # calculating the metrics\n",
        "\n",
        "sensitivity = round(tp/(tp+fn), 3);\n",
        "specificity = round(tn/(tn+fp), 3);\n",
        "accuracy = round((tp+tn)/(tp+fp+tn+fn), 3);\n",
        "balanced_accuracy = round((sensitivity+specificity)/2, 3);\n",
        "\n",
        "precision = round(tp/(tp+fp), 3);\n",
        "f1Score = round((2*tp/(2*tp + fp + fn)), 3);\n",
        "\n",
        "    # Matthews Correlation Coefficient (MCC). Range of values of MCC lie between -1 to +1.\n",
        "    # A model with a score of +1 is a perfect model and -1 is a poor model\n",
        "\n",
        "from math import sqrt\n",
        "\n",
        "mx = (tp+fp) * (tp+fn) * (tn+fp) * (tn+fn)\n",
        "MCC = round(((tp * tn) - (fp * fn)) / sqrt(mx), 3)\n",
        "\n",
        "print('Accuracy :', round(accuracy*100, 2),'%')\n",
        "print('Precision :', round(precision*100, 2),'%')\n",
        "print('Recall :', round(sensitivity*100,2), '%')\n",
        "print('F1 Score :', f1Score)\n",
        "print('Specificity or True Negative Rate :', round(specificity*100,2), '%'  )\n",
        "print('Balanced Accuracy :', round(balanced_accuracy*100, 2),'%')\n",
        "print('MCC :', MCC)"
      ]
    },
    {
      "cell_type": "markdown",
      "id": "dbafdf04",
      "metadata": {
        "id": "dbafdf04"
      },
      "source": [
        "# comparision all of svm Algorithms"
      ]
    },
    {
      "cell_type": "code",
      "execution_count": null,
      "id": "a4c9d10d",
      "metadata": {
        "id": "a4c9d10d"
      },
      "outputs": [
        {
          "name": "stdout",
          "output_type": "stream",
          "text": [
            "Model Name:  SVC(kernel='linear', probability=True)\n",
            "Confusion matrix : \n",
            " [[    0  8133]\n",
            " [    0 82383]]\n",
            "Outcome values : \n",
            " 0 8133 0 82383\n",
            "Classification report : \n",
            "               precision    recall  f1-score   support\n",
            "\n",
            "           1       0.00      0.00      0.00      8133\n",
            "           0       0.91      1.00      0.95     82383\n",
            "\n",
            "    accuracy                           0.91     90516\n",
            "   macro avg       0.46      0.50      0.48     90516\n",
            "weighted avg       0.83      0.91      0.87     90516\n",
            "\n",
            "Accuracy : 91.0 %\n",
            "Precision : nan %\n",
            "Recall : 0.0 %\n",
            "F1 Score : 0.0\n",
            "Specificity or True Negative Rate : 100.0 %\n",
            "Balanced Accuracy : 50.0 %\n",
            "MCC : nan\n",
            "-----------------------------------------------------------------------------------------------------\n",
            "Model Name:  SVC(degree=2, kernel='poly', probability=True)\n",
            "Confusion matrix : \n",
            " [[    0  8133]\n",
            " [    0 82383]]\n",
            "Outcome values : \n",
            " 0 8133 0 82383\n",
            "Classification report : \n",
            "               precision    recall  f1-score   support\n",
            "\n",
            "           1       0.00      0.00      0.00      8133\n",
            "           0       0.91      1.00      0.95     82383\n",
            "\n",
            "    accuracy                           0.91     90516\n",
            "   macro avg       0.46      0.50      0.48     90516\n",
            "weighted avg       0.83      0.91      0.87     90516\n",
            "\n",
            "Accuracy : 91.0 %\n",
            "Precision : nan %\n",
            "Recall : 0.0 %\n",
            "F1 Score : 0.0\n",
            "Specificity or True Negative Rate : 100.0 %\n",
            "Balanced Accuracy : 50.0 %\n",
            "MCC : nan\n",
            "-----------------------------------------------------------------------------------------------------\n",
            "Model Name:  SVC(class_weight='balanced', kernel='sigmoid', probability=True,\n",
            "    random_state=42)\n",
            "Confusion matrix : \n",
            " [[ 3528  4605]\n",
            " [42926 39457]]\n",
            "Outcome values : \n",
            " 3528 4605 42926 39457\n",
            "Classification report : \n",
            "               precision    recall  f1-score   support\n",
            "\n",
            "           1       0.08      0.43      0.13      8133\n",
            "           0       0.90      0.48      0.62     82383\n",
            "\n",
            "    accuracy                           0.47     90516\n",
            "   macro avg       0.49      0.46      0.38     90516\n",
            "weighted avg       0.82      0.47      0.58     90516\n",
            "\n",
            "Accuracy : 47.5 %\n",
            "Precision : 7.6 %\n",
            "Recall : 43.4 %\n",
            "F1 Score : 0.129\n",
            "Specificity or True Negative Rate : 47.9 %\n",
            "Balanced Accuracy : 45.6 %\n",
            "MCC : -0.05\n",
            "-----------------------------------------------------------------------------------------------------\n"
          ]
        }
      ],
      "source": [
        "#Comparing the all SVM Models\n",
        "x_train_reduced = x_train.sample(10000)\n",
        "y_train_reduced = y_train.sample(10000)\n",
        "from sklearn.svm import SVC\n",
        "ModelSVM1 = SVC(C=1.0, kernel='linear', degree=3, gamma='scale', coef0=0.0, shrinking=True,\n",
        "                probability=True, tol=0.001, cache_size=200, class_weight=None, verbose=False,\n",
        "                max_iter=- 1, decision_function_shape='ovr', break_ties=False, random_state=None)\n",
        "\n",
        "ModelSVMPoly = SVC(kernel='poly', degree=2, probability=True)\n",
        "\n",
        "ModelSVMSig = SVC(kernel='sigmoid', random_state = 42, class_weight='balanced', probability=True)\n",
        "\n",
        "ModelSVMGaussian = SVC(kernel='rbf', random_state = 42, class_weight='balanced', probability=True)\n",
        "\n",
        "models=[ModelSVM1,ModelSVMPoly,ModelSVMSig,ModelSVMGaussian]\n",
        "for i in models:\n",
        "    i.fit(x_train_reduced, y_train_reduced)\n",
        "\n",
        "    # Prediction\n",
        "\n",
        "    y_pred = i.predict(x_test)\n",
        "    y_pred_prob = i.predict_proba(x_test)\n",
        "\n",
        "    # Print the model name\n",
        "\n",
        "    print('Model Name: ', i)\n",
        "\n",
        "    # confusion matrix in sklearn\n",
        "\n",
        "    from sklearn.metrics import confusion_matrix\n",
        "    from sklearn.metrics import classification_report\n",
        "\n",
        "    # actual values\n",
        "\n",
        "    actual = y_test\n",
        "\n",
        "    # predicted values\n",
        "\n",
        "    predicted = y_pred\n",
        "\n",
        "    # confusion matrix\n",
        "\n",
        "    matrix = confusion_matrix(actual,predicted, labels=[1,0],sample_weight=None, normalize=None)\n",
        "    print('Confusion matrix : \\n', matrix)\n",
        "\n",
        "    # outcome values order in sklearn\n",
        "\n",
        "    tp, fn, fp, tn = confusion_matrix(actual,predicted,labels=[1,0]).reshape(-1)\n",
        "    print('Outcome values : \\n', tp, fn, fp, tn)\n",
        "\n",
        "    # classification report for precision, recall f1-score and accuracy\n",
        "\n",
        "    C_Report = classification_report(actual,predicted,labels=[1,0])\n",
        "\n",
        "    print('Classification report : \\n', C_Report)\n",
        "\n",
        "    # calculating the metrics\n",
        "\n",
        "    sensitivity = round(tp/(tp+fn), 3);\n",
        "    \n",
        "    specificity = round(tn/(tn+fp), 3);\n",
        "    accuracy = round((tp+tn)/(tp+fp+tn+fn), 3);\n",
        "    balanced_accuracy = round((sensitivity+specificity)/2, 3);\n",
        "\n",
        "    precision = round(tp/(tp+fp), 3);\n",
        "    f1Score = round((2*tp/(2*tp + fp + fn)), 3);\n",
        "\n",
        "    # Matthews Correlation Coefficient (MCC). Range of values of MCC lie between -1 to +1.\n",
        "    # A model with a score of +1 is a perfect model and -1 is a poor model\n",
        "\n",
        "    from math import sqrt\n",
        "\n",
        "    mx = (tp+fp) * (tp+fn) * (tn+fp) * (tn+fn)\n",
        "    MCC = round(((tp * tn) - (fp * fn)) / sqrt(mx), 3)\n",
        "\n",
        "    print('Accuracy :', round(accuracy*100, 2),'%')\n",
        "    print('Precision :', round(precision*100, 2),'%')\n",
        "    print('Recall :', round(sensitivity*100,2), '%')\n",
        "    print('F1 Score :', f1Score)\n",
        "    print('Specificity or True Negative Rate :', round(specificity*100,2), '%'  )\n",
        "    print('Balanced Accuracy :', round(balanced_accuracy*100, 2),'%')\n",
        "    print('MCC :', MCC)\n",
        "    print('-----------------------------------------------------------------------------------------------------')\n",
        "    #-----------------------------------------------------------------------------------------------------------------"
      ]
    },
    {
      "cell_type": "code",
      "execution_count": null,
      "id": "765b2f6f",
      "metadata": {
        "id": "765b2f6f"
      },
      "outputs": [],
      "source": [
        "#Among the svm algorithms 'svm-Linear' Gives best Accuracy"
      ]
    },
    {
      "cell_type": "markdown",
      "id": "083307bf",
      "metadata": {
        "id": "083307bf"
      },
      "source": [
        "# Comparing all 7 Algorithms"
      ]
    },
    {
      "cell_type": "code",
      "execution_count": 1,
      "id": "3fff8ea0",
      "metadata": {
        "id": "3fff8ea0"
      },
      "outputs": [
        {
          "ename": "NameError",
          "evalue": "name 'x_train' is not defined",
          "output_type": "error",
          "traceback": [
            "\u001b[1;31m---------------------------------------------------------------------------\u001b[0m",
            "\u001b[1;31mNameError\u001b[0m                                 Traceback (most recent call last)",
            "Cell \u001b[1;32mIn[1], line 28\u001b[0m\n\u001b[0;32m     22\u001b[0m MM \u001b[38;5;241m=\u001b[39m [ModelLR, ModelDC, ModelRF, ModelET, ModelKNN,ModelGNB]\n\u001b[0;32m     24\u001b[0m \u001b[38;5;28;01mfor\u001b[39;00m models \u001b[38;5;129;01min\u001b[39;00m MM:\n\u001b[0;32m     25\u001b[0m \n\u001b[0;32m     26\u001b[0m     \u001b[38;5;66;03m# Fit the model\u001b[39;00m\n\u001b[1;32m---> 28\u001b[0m     models\u001b[38;5;241m.\u001b[39mfit(\u001b[43mx_train\u001b[49m, y_train)\n\u001b[0;32m     30\u001b[0m     \u001b[38;5;66;03m# Prediction\u001b[39;00m\n\u001b[0;32m     32\u001b[0m     y_pred \u001b[38;5;241m=\u001b[39m models\u001b[38;5;241m.\u001b[39mpredict(x_test)\n",
            "\u001b[1;31mNameError\u001b[0m: name 'x_train' is not defined"
          ]
        }
      ],
      "source": [
        "# Build the Calssification models and compare the results\n",
        "from sklearn.linear_model import LogisticRegression\n",
        "from sklearn.tree import DecisionTreeClassifier\n",
        "from sklearn.ensemble import RandomForestClassifier\n",
        "from sklearn.ensemble import ExtraTreesClassifier\n",
        "from sklearn.neighbors import KNeighborsClassifier\n",
        "from sklearn.naive_bayes import GaussianNB\n",
        "#from sklearn.svm import SVC\n",
        "\n",
        "# Create objects of classification algorithm with default hyper-parameters\n",
        "\n",
        "ModelLR = LogisticRegression()\n",
        "ModelDC = DecisionTreeClassifier()\n",
        "ModelRF = RandomForestClassifier()\n",
        "ModelET = ExtraTreesClassifier()\n",
        "ModelKNN = KNeighborsClassifier(n_neighbors=20)\n",
        "ModelGNB = GaussianNB(priors=None, var_smoothing=1e-09)\n",
        "#ModelSVM = SVC(kernel='linear', random_state = 42, class_weight='balanced', probability=True)\n",
        "\n",
        "# Evalution matrix for all the algorithms\n",
        "\n",
        "MM = [ModelLR, ModelDC, ModelRF, ModelET, ModelKNN,ModelGNB]\n",
        "\n",
        "for models in MM:\n",
        "\n",
        "    # Fit the model\n",
        "\n",
        "    models.fit(x_train, y_train)\n",
        "\n",
        "    # Prediction\n",
        "\n",
        "    y_pred = models.predict(x_test)\n",
        "    y_pred_prob = models.predict_proba(x_test)\n",
        "\n",
        "    # Print the model name\n",
        "\n",
        "    print('Model Name: ', models)\n",
        "\n",
        "    # confusion matrix in sklearn\n",
        "\n",
        "    from sklearn.metrics import confusion_matrix\n",
        "    from sklearn.metrics import classification_report\n",
        "\n",
        "    # actual values\n",
        "\n",
        "    actual = y_test\n",
        "\n",
        "    # predicted values\n",
        "\n",
        "    predicted = y_pred\n",
        "\n",
        "    # confusion matrix\n",
        "\n",
        "    matrix = confusion_matrix(actual,predicted, labels=[1,0],sample_weight=None, normalize=None)\n",
        "    print('Confusion matrix : \\n', matrix)\n",
        "\n",
        "    # outcome values order in sklearn\n",
        "\n",
        "    tp, fn, fp, tn = confusion_matrix(actual,predicted,labels=[1,0]).reshape(-1)\n",
        "    print('Outcome values : \\n', tp, fn, fp, tn)\n",
        "\n",
        "    # classification report for precision, recall f1-score and accuracy\n",
        "\n",
        "    C_Report = classification_report(actual,predicted,labels=[1,0])\n",
        "\n",
        "    print('Classification report : \\n', C_Report)\n",
        "\n",
        "    # calculating the metrics\n",
        "\n",
        "    sensitivity = round(tp/(tp+fn), 3);\n",
        "    specificity = round(tn/(tn+fp), 3);\n",
        "    accuracy = round((tp+tn)/(tp+fp+tn+fn), 3);\n",
        "    balanced_accuracy = round((sensitivity+specificity)/2, 3);\n",
        "\n",
        "    precision = round(tp/(tp+fp), 3);\n",
        "    f1Score = round((2*tp/(2*tp + fp + fn)), 3);\n",
        "\n",
        "    # Matthews Correlation Coefficient (MCC). Range of values of MCC lie between -1 to +1.\n",
        "    # A model with a score of +1 is a perfect model and -1 is a poor model\n",
        "\n",
        "    from math import sqrt\n",
        "\n",
        "    mx = (tp+fp) * (tp+fn) * (tn+fp) * (tn+fn)\n",
        "    MCC = round(((tp * tn) - (fp * fn)) / sqrt(mx), 3)\n",
        "\n",
        "    print('Accuracy :', round(accuracy*100, 2),'%')\n",
        "    print('Precision :', round(precision*100, 2),'%')\n",
        "    print('Recall :', round(sensitivity*100,2), '%')\n",
        "    print('F1 Score :', f1Score)\n",
        "    print('Specificity or True Negative Rate :', round(specificity*100,2), '%'  )\n",
        "    print('Balanced Accuracy :', round(balanced_accuracy*100, 2),'%')\n",
        "    print('MCC :', MCC)\n",
        "\n",
        "    # Area under ROC curve\n",
        "\n",
        "    from sklearn.metrics import roc_curve, roc_auc_score\n",
        "\n",
        "    print('roc_auc_score:', round(roc_auc_score(actual, predicted), 3))\n",
        "\n",
        "    # ROC Curve\n",
        "\n",
        "    from sklearn.metrics import roc_auc_score\n",
        "    from sklearn.metrics import roc_curve\n",
        "    model_roc_auc = roc_auc_score(actual, predicted)\n",
        "    fpr, tpr, thresholds = roc_curve(actual, models.predict_proba(x_test)[:,1])\n",
        "    plt.figure()\n",
        "    # plt.plot(fpr, tpr, label='Logistic Regression (area = %0.2f)' % logit_roc_auc)\n",
        "    plt.plot(fpr, tpr, label= 'Classification Model' % model_roc_auc)\n",
        "    plt.plot([0, 1], [0, 1],'r--')\n",
        "    plt.xlim([0.0, 1.0])\n",
        "    plt.ylim([0.0, 1.05])\n",
        "    plt.xlabel('False Positive Rate')\n",
        "    plt.ylabel('True Positive Rate')\n",
        "    plt.title('Receiver operating characteristic')\n",
        "    plt.legend(loc=\"lower right\")\n",
        "    plt.savefig('Log_ROC')\n",
        "    plt.show()\n",
        "    print('-----------------------------------------------------------------------------------------------------')\n",
        "\n",
        "    #------------------------------------------------------------------------------------------------------------------\n"
      ]
    },
    {
      "cell_type": "markdown",
      "id": "7733e503",
      "metadata": {
        "id": "7733e503"
      },
      "source": [
        "# Training SVM Seperately"
      ]
    },
    {
      "cell_type": "code",
      "execution_count": null,
      "id": "c259249f",
      "metadata": {
        "id": "c259249f"
      },
      "outputs": [
        {
          "name": "stdout",
          "output_type": "stream",
          "text": [
            "Model Name:  SVM - Linear\n",
            "Confusion matrix : \n",
            " [[    0  8133]\n",
            " [    0 82383]]\n",
            "Outcome values : \n",
            " 0 8133 0 82383\n",
            "Classification report : \n",
            "               precision    recall  f1-score   support\n",
            "\n",
            "           1       0.00      0.00      0.00      8133\n",
            "           0       0.91      1.00      0.95     82383\n",
            "\n",
            "    accuracy                           0.91     90516\n",
            "   macro avg       0.46      0.50      0.48     90516\n",
            "weighted avg       0.83      0.91      0.87     90516\n",
            "\n",
            "Accuracy : 91.0 %\n",
            "Precision : nan %\n",
            "Recall : 0.0 %\n",
            "F1 Score : 0.0\n",
            "Specificity or True Negative Rate : 100.0 %\n",
            "Balanced Accuracy : 50.0 %\n",
            "MCC : nan\n",
            "roc_auc_score: 0.5\n"
          ]
        },
        {
          "data": {
            "image/png": "[encoded data removed]",
            "text/plain": [
              "<Figure size 640x480 with 1 Axes>"
            ]
          },
          "metadata": {},
          "output_type": "display_data"
        },
        {
          "name": "stdout",
          "output_type": "stream",
          "text": [
            "-----------------------------------------------------------------------------------------------------\n"
          ]
        }
      ],
      "source": [
        "# Training the SVM algorithm\n",
        "x_train_reduced = x_train.sample(10000)\n",
        "y_train_reduced = y_train.sample(10000)\n",
        "from sklearn.svm import SVC\n",
        "\n",
        "ModelSVM1 = SVC(C=1.0, kernel='linear', degree=3, gamma='scale', coef0=0.0, shrinking=True,\n",
        "                probability=True, tol=0.001, cache_size=200, class_weight=None, verbose=False,\n",
        "                max_iter=- 1, decision_function_shape='ovr', break_ties=False, random_state=None)\n",
        "\n",
        "# Train the model\n",
        "\n",
        "ModelSVM1.fit(x_train_reduced, y_train_reduced)\n",
        "\n",
        "# Predict the model with test data set\n",
        "\n",
        "y_pred = ModelSVM1.predict(x_test)\n",
        "y_pred_prob = ModelSVM1.predict_proba(x_test)\n",
        "\n",
        "# Confusion matrix in sklearn\n",
        "\n",
        "from sklearn.metrics import confusion_matrix\n",
        "from sklearn.metrics import classification_report\n",
        "\n",
        "# Print the model name\n",
        "\n",
        "print('Model Name: ', \"SVM - Linear\")\n",
        "\n",
        "# actual values\n",
        "\n",
        "actual = y_test\n",
        "\n",
        "# predicted values\n",
        "\n",
        "predicted = y_pred\n",
        "\n",
        "# confusion matrix\n",
        "\n",
        "matrix = confusion_matrix(actual,predicted, labels=[1,0],sample_weight=None, normalize=None)\n",
        "print('Confusion matrix : \\n', matrix)\n",
        "\n",
        "# outcome values order in sklearn\n",
        "\n",
        "tp, fn, fp, tn = confusion_matrix(actual,predicted,labels=[1,0]).reshape(-1)\n",
        "print('Outcome values : \\n', tp, fn, fp, tn)\n",
        "\n",
        "# classification report for precision, recall f1-score and accuracy\n",
        "\n",
        "C_Report = classification_report(actual,predicted,labels=[1,0])\n",
        "\n",
        "print('Classification report : \\n', C_Report)\n",
        "\n",
        "# calculating the metrics\n",
        "\n",
        "sensitivity = round(tp/(tp+fn), 3);\n",
        "specificity = round(tn/(tn+fp), 3);\n",
        "accuracy = round((tp+tn)/(tp+fp+tn+fn), 3);\n",
        "balanced_accuracy = round((sensitivity+specificity)/2, 3);\n",
        "precision = round(tp/(tp+fp), 3);\n",
        "f1Score = round((2*tp/(2*tp + fp + fn)), 3);\n",
        "\n",
        "# Matthews Correlation Coefficient (MCC). Range of values of MCC lie between -1 to +1.\n",
        "# A model with a score of +1 is a perfect model and -1 is a poor model\n",
        "\n",
        "from math import sqrt\n",
        "\n",
        "mx = (tp+fp) * (tp+fn) * (tn+fp) * (tn+fn)\n",
        "MCC = round(((tp * tn) - (fp * fn)) / sqrt(mx), 3)\n",
        "\n",
        "print('Accuracy :', round(accuracy*100, 2),'%')\n",
        "print('Precision :', round(precision*100, 2),'%')\n",
        "print('Recall :', round(sensitivity*100,2), '%')\n",
        "print('F1 Score :', f1Score)\n",
        "print('Specificity or True Negative Rate :', round(specificity*100,2), '%'  )\n",
        "print('Balanced Accuracy :', round(balanced_accuracy*100, 2),'%')\n",
        "print('MCC :', MCC)\n",
        "\n",
        "# Area under ROC curve\n",
        "\n",
        "from sklearn.metrics import roc_curve, roc_auc_score\n",
        "\n",
        "print('roc_auc_score:', round(roc_auc_score(y_test, y_pred), 3))\n",
        "\n",
        "# ROC Curve\n",
        "\n",
        "from sklearn.metrics import roc_auc_score\n",
        "from sklearn.metrics import roc_curve\n",
        "logit_roc_auc = roc_auc_score(y_test, y_pred)\n",
        "fpr, tpr, thresholds = roc_curve(y_test,ModelSVMGaussian.predict_proba(x_test)[:,1])\n",
        "plt.figure()\n",
        "# plt.plot\n",
        "plt.plot(fpr, tpr, label= 'Classification Model' % logit_roc_auc)\n",
        "plt.plot([0, 1], [0, 1],'r--')\n",
        "plt.xlim([0.0, 1.0])\n",
        "plt.ylim([0.0, 1.05])\n",
        "plt.xlabel('False Positive Rate')\n",
        "plt.ylabel('True Positive Rate')\n",
        "plt.title('Receiver operating characteristic')\n",
        "plt.legend(loc=\"lower right\")\n",
        "plt.savefig('Log_ROC')\n",
        "plt.show()\n",
        "print('-----------------------------------------------------------------------------------------------------')\n",
        "#---------------------------------------------------------------------------------------------------------------"
      ]
    },
    {
      "cell_type": "markdown",
      "id": "d9d72b30",
      "metadata": {
        "id": "d9d72b30"
      },
      "source": [
        "# KNN Gives the best accuracy"
      ]
    },
    {
      "cell_type": "code",
      "execution_count": null,
      "id": "3d61c881",
      "metadata": {
        "id": "3d61c881"
      },
      "outputs": [],
      "source": [
        "#predict the values of KNN algorithm\n",
        "y_predF=ModelKNN.predict(x_test)"
      ]
    },
    {
      "cell_type": "code",
      "execution_count": null,
      "id": "4495917d",
      "metadata": {},
      "outputs": [
        {
          "name": "stdout",
          "output_type": "stream",
          "text": [
            "Accuracy for KNN algorithm: 91.0 %\n"
          ]
        }
      ],
      "source": [
        "print(f\"Accuracy for KNN algorithm: {round(accuracy_score(y_test,y_predF),2)*100} %\")"
      ]
    },
    {
      "cell_type": "code",
      "execution_count": null,
      "id": "REQuDxs-1ECV",
      "metadata": {
        "id": "REQuDxs-1ECV"
      },
      "outputs": [
        {
          "data": {
            "text/plain": [
              "<Axes: >"
            ]
          },
          "execution_count": 35,
          "metadata": {},
          "output_type": "execute_result"
        },
        {
          "data": {
            "image/png": "[encoded data removed]",
            "text/plain": [
              "<Figure size 640x480 with 2 Axes>"
            ]
          },
          "metadata": {},
          "output_type": "display_data"
        }
      ],
      "source": [
        "from sklearn.metrics import confusion_matrix\n",
        "cm=confusion_matrix(y_test,y_predF)\n",
        "sns.heatmap(cm,annot=True)"
      ]
    },
    {
      "cell_type": "code",
      "execution_count": null,
      "id": "65a79d71",
      "metadata": {
        "id": "65a79d71"
      },
      "outputs": [],
      "source": [
        "#create new dataframe with actual vs predicted values\n",
        "Results=pd.DataFrame({'HeartDisease_A':y_test,'HeartDisease_P_F':y_predF})\n",
        "#merge the two dataframes on index of both data frames\n",
        "ResultsFinal = data_bk.merge(Results,left_index=True,right_index=True)"
      ]
    },
    {
      "cell_type": "code",
      "execution_count": null,
      "id": "410fefbf",
      "metadata": {
        "id": "410fefbf"
      },
      "outputs": [
        {
          "data": {
            "text/html": [
              "<div>\n",
              "<style scoped>\n",
              "    .dataframe tbody tr th:only-of-type {\n",
              "        vertical-align: middle;\n",
              "    }\n",
              "\n",
              "    .dataframe tbody tr th {\n",
              "        vertical-align: top;\n",
              "    }\n",
              "\n",
              "    .dataframe thead th {\n",
              "        text-align: right;\n",
              "    }\n",
              "</style>\n",
              "<table border=\"1\" class=\"dataframe\">\n",
              "  <thead>\n",
              "    <tr style=\"text-align: right;\">\n",
              "      <th></th>\n",
              "      <th>HeartDisease</th>\n",
              "      <th>BMI</th>\n",
              "      <th>Smoking</th>\n",
              "      <th>AlcoholDrinking</th>\n",
              "      <th>Stroke</th>\n",
              "      <th>PhysicalHealth</th>\n",
              "      <th>MentalHealth</th>\n",
              "      <th>DiffWalking</th>\n",
              "      <th>Sex</th>\n",
              "      <th>AgeCategory</th>\n",
              "      <th>Race</th>\n",
              "      <th>Diabetic</th>\n",
              "      <th>PhysicalActivity</th>\n",
              "      <th>GenHealth</th>\n",
              "      <th>SleepTime</th>\n",
              "      <th>Asthma</th>\n",
              "      <th>KidneyDisease</th>\n",
              "      <th>SkinCancer</th>\n",
              "      <th>HeartDisease_A</th>\n",
              "      <th>HeartDisease_P_F</th>\n",
              "    </tr>\n",
              "  </thead>\n",
              "  <tbody>\n",
              "    <tr>\n",
              "      <th>279025</th>\n",
              "      <td>No</td>\n",
              "      <td>28.29</td>\n",
              "      <td>Yes</td>\n",
              "      <td>No</td>\n",
              "      <td>No</td>\n",
              "      <td>3.0</td>\n",
              "      <td>0.0</td>\n",
              "      <td>No</td>\n",
              "      <td>Female</td>\n",
              "      <td>35-39</td>\n",
              "      <td>White</td>\n",
              "      <td>No</td>\n",
              "      <td>Yes</td>\n",
              "      <td>Very good</td>\n",
              "      <td>6.0</td>\n",
              "      <td>Yes</td>\n",
              "      <td>No</td>\n",
              "      <td>No</td>\n",
              "      <td>0</td>\n",
              "      <td>0</td>\n",
              "    </tr>\n",
              "    <tr>\n",
              "      <th>8891</th>\n",
              "      <td>No</td>\n",
              "      <td>27.97</td>\n",
              "      <td>Yes</td>\n",
              "      <td>No</td>\n",
              "      <td>No</td>\n",
              "      <td>30.0</td>\n",
              "      <td>0.0</td>\n",
              "      <td>Yes</td>\n",
              "      <td>Male</td>\n",
              "      <td>80 or older</td>\n",
              "      <td>American Indian/Alaskan Native</td>\n",
              "      <td>No</td>\n",
              "      <td>No</td>\n",
              "      <td>Good</td>\n",
              "      <td>7.0</td>\n",
              "      <td>No</td>\n",
              "      <td>Yes</td>\n",
              "      <td>No</td>\n",
              "      <td>0</td>\n",
              "      <td>0</td>\n",
              "    </tr>\n",
              "    <tr>\n",
              "      <th>28974</th>\n",
              "      <td>No</td>\n",
              "      <td>24.03</td>\n",
              "      <td>Yes</td>\n",
              "      <td>No</td>\n",
              "      <td>No</td>\n",
              "      <td>0.0</td>\n",
              "      <td>3.0</td>\n",
              "      <td>No</td>\n",
              "      <td>Female</td>\n",
              "      <td>30-34</td>\n",
              "      <td>White</td>\n",
              "      <td>No</td>\n",
              "      <td>Yes</td>\n",
              "      <td>Very good</td>\n",
              "      <td>8.0</td>\n",
              "      <td>Yes</td>\n",
              "      <td>No</td>\n",
              "      <td>No</td>\n",
              "      <td>0</td>\n",
              "      <td>0</td>\n",
              "    </tr>\n",
              "    <tr>\n",
              "      <th>210604</th>\n",
              "      <td>No</td>\n",
              "      <td>21.97</td>\n",
              "      <td>Yes</td>\n",
              "      <td>No</td>\n",
              "      <td>No</td>\n",
              "      <td>0.0</td>\n",
              "      <td>0.0</td>\n",
              "      <td>No</td>\n",
              "      <td>Male</td>\n",
              "      <td>60-64</td>\n",
              "      <td>Black</td>\n",
              "      <td>No</td>\n",
              "      <td>Yes</td>\n",
              "      <td>Good</td>\n",
              "      <td>7.0</td>\n",
              "      <td>No</td>\n",
              "      <td>No</td>\n",
              "      <td>No</td>\n",
              "      <td>0</td>\n",
              "      <td>0</td>\n",
              "    </tr>\n",
              "    <tr>\n",
              "      <th>39958</th>\n",
              "      <td>Yes</td>\n",
              "      <td>34.02</td>\n",
              "      <td>Yes</td>\n",
              "      <td>No</td>\n",
              "      <td>Yes</td>\n",
              "      <td>30.0</td>\n",
              "      <td>0.0</td>\n",
              "      <td>Yes</td>\n",
              "      <td>Male</td>\n",
              "      <td>45-49</td>\n",
              "      <td>White</td>\n",
              "      <td>Yes</td>\n",
              "      <td>Yes</td>\n",
              "      <td>Fair</td>\n",
              "      <td>6.0</td>\n",
              "      <td>No</td>\n",
              "      <td>No</td>\n",
              "      <td>No</td>\n",
              "      <td>0</td>\n",
              "      <td>0</td>\n",
              "    </tr>\n",
              "    <tr>\n",
              "      <th>226391</th>\n",
              "      <td>No</td>\n",
              "      <td>15.98</td>\n",
              "      <td>Yes</td>\n",
              "      <td>No</td>\n",
              "      <td>No</td>\n",
              "      <td>25.0</td>\n",
              "      <td>20.0</td>\n",
              "      <td>Yes</td>\n",
              "      <td>Female</td>\n",
              "      <td>60-64</td>\n",
              "      <td>White</td>\n",
              "      <td>No</td>\n",
              "      <td>No</td>\n",
              "      <td>Poor</td>\n",
              "      <td>8.0</td>\n",
              "      <td>Yes</td>\n",
              "      <td>No</td>\n",
              "      <td>No</td>\n",
              "      <td>0</td>\n",
              "      <td>0</td>\n",
              "    </tr>\n",
              "    <tr>\n",
              "      <th>111957</th>\n",
              "      <td>No</td>\n",
              "      <td>64.56</td>\n",
              "      <td>No</td>\n",
              "      <td>No</td>\n",
              "      <td>No</td>\n",
              "      <td>21.0</td>\n",
              "      <td>0.0</td>\n",
              "      <td>Yes</td>\n",
              "      <td>Female</td>\n",
              "      <td>30-34</td>\n",
              "      <td>White</td>\n",
              "      <td>No</td>\n",
              "      <td>No</td>\n",
              "      <td>Fair</td>\n",
              "      <td>9.0</td>\n",
              "      <td>No</td>\n",
              "      <td>No</td>\n",
              "      <td>No</td>\n",
              "      <td>0</td>\n",
              "      <td>0</td>\n",
              "    </tr>\n",
              "    <tr>\n",
              "      <th>142542</th>\n",
              "      <td>Yes</td>\n",
              "      <td>17.94</td>\n",
              "      <td>No</td>\n",
              "      <td>No</td>\n",
              "      <td>No</td>\n",
              "      <td>0.0</td>\n",
              "      <td>0.0</td>\n",
              "      <td>No</td>\n",
              "      <td>Female</td>\n",
              "      <td>80 or older</td>\n",
              "      <td>White</td>\n",
              "      <td>No</td>\n",
              "      <td>Yes</td>\n",
              "      <td>Fair</td>\n",
              "      <td>7.0</td>\n",
              "      <td>No</td>\n",
              "      <td>No</td>\n",
              "      <td>Yes</td>\n",
              "      <td>0</td>\n",
              "      <td>0</td>\n",
              "    </tr>\n",
              "    <tr>\n",
              "      <th>273904</th>\n",
              "      <td>Yes</td>\n",
              "      <td>29.79</td>\n",
              "      <td>Yes</td>\n",
              "      <td>No</td>\n",
              "      <td>No</td>\n",
              "      <td>0.0</td>\n",
              "      <td>0.0</td>\n",
              "      <td>No</td>\n",
              "      <td>Male</td>\n",
              "      <td>70-74</td>\n",
              "      <td>White</td>\n",
              "      <td>Yes</td>\n",
              "      <td>Yes</td>\n",
              "      <td>Fair</td>\n",
              "      <td>7.0</td>\n",
              "      <td>No</td>\n",
              "      <td>No</td>\n",
              "      <td>No</td>\n",
              "      <td>0</td>\n",
              "      <td>0</td>\n",
              "    </tr>\n",
              "    <tr>\n",
              "      <th>71806</th>\n",
              "      <td>No</td>\n",
              "      <td>20.36</td>\n",
              "      <td>No</td>\n",
              "      <td>No</td>\n",
              "      <td>No</td>\n",
              "      <td>0.0</td>\n",
              "      <td>5.0</td>\n",
              "      <td>No</td>\n",
              "      <td>Male</td>\n",
              "      <td>25-29</td>\n",
              "      <td>White</td>\n",
              "      <td>No</td>\n",
              "      <td>Yes</td>\n",
              "      <td>Excellent</td>\n",
              "      <td>7.0</td>\n",
              "      <td>No</td>\n",
              "      <td>No</td>\n",
              "      <td>No</td>\n",
              "      <td>0</td>\n",
              "      <td>0</td>\n",
              "    </tr>\n",
              "  </tbody>\n",
              "</table>\n",
              "</div>"
            ],
            "text/plain": [
              "       HeartDisease    BMI Smoking AlcoholDrinking Stroke  PhysicalHealth  \\\n",
              "279025           No  28.29     Yes              No     No             3.0   \n",
              "8891             No  27.97     Yes              No     No            30.0   \n",
              "28974            No  24.03     Yes              No     No             0.0   \n",
              "210604           No  21.97     Yes              No     No             0.0   \n",
              "39958           Yes  34.02     Yes              No    Yes            30.0   \n",
              "226391           No  15.98     Yes              No     No            25.0   \n",
              "111957           No  64.56      No              No     No            21.0   \n",
              "142542          Yes  17.94      No              No     No             0.0   \n",
              "273904          Yes  29.79     Yes              No     No             0.0   \n",
              "71806            No  20.36      No              No     No             0.0   \n",
              "\n",
              "        MentalHealth DiffWalking     Sex  AgeCategory  \\\n",
              "279025           0.0          No  Female        35-39   \n",
              "8891             0.0         Yes    Male  80 or older   \n",
              "28974            3.0          No  Female        30-34   \n",
              "210604           0.0          No    Male        60-64   \n",
              "39958            0.0         Yes    Male        45-49   \n",
              "226391          20.0         Yes  Female        60-64   \n",
              "111957           0.0         Yes  Female        30-34   \n",
              "142542           0.0          No  Female  80 or older   \n",
              "273904           0.0          No    Male        70-74   \n",
              "71806            5.0          No    Male        25-29   \n",
              "\n",
              "                                  Race Diabetic PhysicalActivity  GenHealth  \\\n",
              "279025                           White       No              Yes  Very good   \n",
              "8891    American Indian/Alaskan Native       No               No       Good   \n",
              "28974                            White       No              Yes  Very good   \n",
              "210604                           Black       No              Yes       Good   \n",
              "39958                            White      Yes              Yes       Fair   \n",
              "226391                           White       No               No       Poor   \n",
              "111957                           White       No               No       Fair   \n",
              "142542                           White       No              Yes       Fair   \n",
              "273904                           White      Yes              Yes       Fair   \n",
              "71806                            White       No              Yes  Excellent   \n",
              "\n",
              "        SleepTime Asthma KidneyDisease SkinCancer  HeartDisease_A  \\\n",
              "279025        6.0    Yes            No         No               0   \n",
              "8891          7.0     No           Yes         No               0   \n",
              "28974         8.0    Yes            No         No               0   \n",
              "210604        7.0     No            No         No               0   \n",
              "39958         6.0     No            No         No               0   \n",
              "226391        8.0    Yes            No         No               0   \n",
              "111957        9.0     No            No         No               0   \n",
              "142542        7.0     No            No        Yes               0   \n",
              "273904        7.0     No            No         No               0   \n",
              "71806         7.0     No            No         No               0   \n",
              "\n",
              "        HeartDisease_P_F  \n",
              "279025                 0  \n",
              "8891                   0  \n",
              "28974                  0  \n",
              "210604                 0  \n",
              "39958                  0  \n",
              "226391                 0  \n",
              "111957                 0  \n",
              "142542                 0  \n",
              "273904                 0  \n",
              "71806                  0  "
            ]
          },
          "execution_count": 37,
          "metadata": {},
          "output_type": "execute_result"
        }
      ],
      "source": [
        "#Displaying the 10 rows\n",
        "ResultsFinal.sample(10)"
      ]
    },
    {
      "cell_type": "code",
      "execution_count": null,
      "id": "d86d7f43",
      "metadata": {
        "id": "d86d7f43"
      },
      "outputs": [
        {
          "data": {
            "text/plain": [
              "HeartDisease_P_F\n",
              "0    89482\n",
              "1     1034\n",
              "Name: count, dtype: int64"
            ]
          },
          "execution_count": 38,
          "metadata": {},
          "output_type": "execute_result"
        }
      ],
      "source": [
        "ResultsFinal['HeartDisease_P_F'].value_counts()"
      ]
    },
    {
      "cell_type": "markdown",
      "id": "276c7e1a",
      "metadata": {},
      "source": [
        "Deploying the Model"
      ]
    },
    {
      "cell_type": "code",
      "execution_count": null,
      "id": "f631f98d",
      "metadata": {
        "id": "f631f98d"
      },
      "outputs": [],
      "source": [
        "import pickle\n",
        "pickle.dump(ModelKNN,open(\"HDPF1.pkl\",'wb'))\n",
        "pickle.dump(mmscaler,open('HDPFS1.pkl','wb'))"
      ]
    }
  ],
  "metadata": {
    "colab": {
      "provenance": []
    },
    "kernelspec": {
      "display_name": "Python 3",
      "language": "python",
      "name": "python3"
    },
    "language_info": {
      "codemirror_mode": {
        "name": "ipython",
        "version": 3
      },
      "file_extension": ".py",
      "mimetype": "text/x-python",
      "name": "python",
      "nbconvert_exporter": "python",
      "pygments_lexer": "ipython3",
      "version": "3.11.9"
    }
  },
  "nbformat": 4,
  "nbformat_minor": 5
}
